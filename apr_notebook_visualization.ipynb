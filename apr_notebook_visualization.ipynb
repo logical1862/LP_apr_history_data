{
 "cells": [
  {
   "cell_type": "markdown",
   "metadata": {},
   "source": [
    "Analytics and Visualization of Annual Percentage Rate of the Osmosis Liquidity Pool system :\n",
    "\n",
    "\n",
    "import necessary libraries and unit tests:\n"
   ]
  },
  {
   "cell_type": "code",
   "execution_count": null,
   "metadata": {},
   "outputs": [],
   "source": [
    "import pandas as pd\n",
    "import seaborn"
   ]
  }
 ],
 "metadata": {
  "kernelspec": {
   "display_name": "Python 3.10.5 64-bit (windows store)",
   "language": "python",
   "name": "python3"
  },
  "language_info": {
   "name": "python",
   "version": "3.10.5"
  },
  "orig_nbformat": 4,
  "vscode": {
   "interpreter": {
    "hash": "ad9dea3f35d4432f2cdcb854a940a975d81f1df36ace21e95e41c44fe5663cfc"
   }
  }
 },
 "nbformat": 4,
 "nbformat_minor": 2
}
